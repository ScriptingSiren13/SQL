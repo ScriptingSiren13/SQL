{
 "cells": [
  {
   "cell_type": "markdown",
   "id": "e25ac6b0-8c51-489d-b2cc-471f43165f88",
   "metadata": {},
   "source": [
    "<h2 style=\"color:#B00058>1. ABSOLUTE</h2>"
   ]
  },
  {
   "cell_type": "markdown",
   "id": "ef4e7722-8c64-4daf-8d2f-9ac8efe570de",
   "metadata": {},
   "source": [
    "<h1 style=\"color:#820041\"> MATHEMATICAL FUNCTIONS:</h1>"
   ]
  },
  {
   "cell_type": "markdown",
   "id": "ded2f7fd-2c9a-4f8f-bcf3-854a872a86b4",
   "metadata": {},
   "source": [
    "<H2 style=\"color:#FF0D86\">1. ABSOLUTE</H2>"
   ]
  },
  {
   "cell_type": "code",
   "execution_count": null,
   "id": "ebef9755-75c4-4d51-8f3c-7d01595d7e1e",
   "metadata": {},
   "outputs": [],
   "source": [
    "SELECT title, (india_gross) AS Profit FROM bollywood_movies"
   ]
  },
  {
   "cell_type": "code",
   "execution_count": null,
   "id": "48ea7281-e549-4fe2-8bc9-37dec0a2f54c",
   "metadata": {},
   "outputs": [],
   "source": [
    "SELECT title, ABS((india_gross)) AS Profit FROM bollywood_movies"
   ]
  },
  {
   "cell_type": "markdown",
   "id": "b25ad46d-ce90-458c-8c97-1946f71caa55",
   "metadata": {},
   "source": [
    "<H2 style=\"color:#FF0D86\">2. ROUND. </H2>"
   ]
  },
  {
   "cell_type": "code",
   "execution_count": null,
   "id": "3b2ff9de-274b-4e23-a67f-a12e495d3238",
   "metadata": {},
   "outputs": [],
   "source": [
    "SELECT title, (runtime/60) AS runtime_hrs FROM bollywood_movies\n",
    "#the runtime will be like 2.9333,2.5500,1.5500..."
   ]
  },
  {
   "cell_type": "code",
   "execution_count": null,
   "id": "83b094c4-e396-4bab-8d1d-9fd3a17a26c5",
   "metadata": {},
   "outputs": [],
   "source": [
    "SELECT title, ROUND((runtime/60)) AS runtime_hrs FROM bollywood_movies\n",
    "#the runtime will be like 3,3,2..."
   ]
  },
  {
   "cell_type": "markdown",
   "id": "788cb70b-d122-4473-9e23-c6c99958e6fb",
   "metadata": {},
   "source": [
    "<h4>To show the decimal places as well:</h4>"
   ]
  },
  {
   "cell_type": "code",
   "execution_count": null,
   "id": "9bf60dd8-e822-4c5a-a539-3214cb9bc3dd",
   "metadata": {},
   "outputs": [],
   "source": [
    "SELECT title, ROUND((runtime/60),1) AS runtime_hrs FROM bollywood_movies\n",
    "#the runtime will be like 2.9,2.6,1.6..."
   ]
  },
  {
   "cell_type": "code",
   "execution_count": null,
   "id": "30871272-b975-4cdf-a5ad-0841e982edea",
   "metadata": {},
   "outputs": [],
   "source": [
    "SELECT title, ROUND((runtime/60),2) AS runtime_hrs FROM bollywood_movies\n",
    "#the runtime will be like 2.93,2.55,1.55..."
   ]
  },
  {
   "cell_type": "markdown",
   "id": "4b4b7609-7f4a-4c34-b18d-729e2f96ae0e",
   "metadata": {},
   "source": [
    "<H2 style=\"color:#FF0D86\">3. CEIL</H2>"
   ]
  },
  {
   "cell_type": "code",
   "execution_count": null,
   "id": "3f73acde-5f8b-4115-8bf7-3dee4177f062",
   "metadata": {},
   "outputs": [],
   "source": [
    "SELECT title, CEIL((runtime/60)) AS runtime_hrs FROM bollywood_movies\n",
    "#the runtime will be like 3,3,2..."
   ]
  },
  {
   "cell_type": "markdown",
   "id": "96b55488-ec68-4736-b3eb-6d323e352c7a",
   "metadata": {},
   "source": [
    "<H2 style=\"color:#FF0D86\">4. FLOOR</H2>"
   ]
  },
  {
   "cell_type": "code",
   "execution_count": null,
   "id": "0d53e75b-a07e-4656-9a55-7d88aac81c2b",
   "metadata": {},
   "outputs": [],
   "source": [
    "SELECT title, FLOOR((runtime/60)) AS runtime_hrs FROM bollywood_movies\n",
    "#the runtime will be like 2,2,1..."
   ]
  },
  {
   "cell_type": "markdown",
   "id": "f9d01613-9243-4387-b765-5824dbb3836f",
   "metadata": {},
   "source": [
    "<h1 style=\"color:#820041\">STRING FUNCTIONS:</h1>"
   ]
  },
  {
   "cell_type": "markdown",
   "id": "fc85ed88-8185-4d6e-b1cf-b22673675c98",
   "metadata": {},
   "source": [
    "<H2 style=\"color:#FF0D86\">1. UPPER</H2>"
   ]
  },
  {
   "cell_type": "code",
   "execution_count": null,
   "id": "13315d4b-bf1f-4426-bd14-75adb5d77ace",
   "metadata": {},
   "outputs": [],
   "source": [
    "SELECT UPPER(title) FROM bollywood_movies\n",
    "#the title of the movies will be in uppercase"
   ]
  },
  {
   "cell_type": "markdown",
   "id": "797e057b-6be6-4f89-af28-982a33d94a0a",
   "metadata": {},
   "source": [
    "<h2 style=\"color:#FF0D86\">2. LOWER</h2>"
   ]
  },
  {
   "cell_type": "code",
   "execution_count": null,
   "id": "3532f723-8a13-40db-af39-70cf14d68c70",
   "metadata": {},
   "outputs": [],
   "source": [
    "SELECT LOWER(title) FROM bollywood_movies\n",
    "#the title of the movies will be in lowercase"
   ]
  },
  {
   "cell_type": "markdown",
   "id": "a2654c90-0d1e-475b-81f5-d40a2f53e435",
   "metadata": {},
   "source": [
    "<H2 style=\"color:#FF0D86\">3. LENGTH</H2>"
   ]
  },
  {
   "cell_type": "code",
   "execution_count": null,
   "id": "c8bc3db3-567b-48fe-8275-b3846d5a14bb",
   "metadata": {},
   "outputs": [],
   "source": [
    "SELECT LENGTH(title) AS len_movie FROM bollywood_movies"
   ]
  },
  {
   "cell_type": "markdown",
   "id": "06a370d6-4952-4b28-bf13-8352c958f024",
   "metadata": {},
   "source": [
    "<H2 style=\"color:#FF0D86\">4. CONCAT</H2>"
   ]
  },
  {
   "cell_type": "code",
   "execution_count": null,
   "id": "822fdcec-3108-49f4-96ca-f9e2d0115391",
   "metadata": {},
   "outputs": [],
   "source": [
    "SELECT title, CONCAT(actor, ' ', director) AS Crew FROM bollywood_movies"
   ]
  },
  {
   "cell_type": "markdown",
   "id": "8282b650-c8eb-43d5-9248-d35f0da86d52",
   "metadata": {},
   "source": [
    "<H2 style=\"color:#FF0D86\">5. SUBSTRING</H2>"
   ]
  },
  {
   "cell_type": "code",
   "execution_count": null,
   "id": "83717712-4382-40e3-a9cb-a34760edb0ea",
   "metadata": {},
   "outputs": [],
   "source": [
    "SELECT title, SUBSTR(title,1,5) AS short_title FROM bollywood_movies"
   ]
  },
  {
   "cell_type": "markdown",
   "id": "ad35d230-4287-4464-8b0a-c9e1c266b022",
   "metadata": {},
   "source": [
    "<H1 style=\"color:#820041\">AGGREGATE FUNCTIONS:</H1>"
   ]
  },
  {
   "cell_type": "markdown",
   "id": "d0125ef6-f54c-4b4b-8c1c-7904a6b26eac",
   "metadata": {},
   "source": [
    "<H2 style=\"color:#FF0D86\">1. MAX</H2>"
   ]
  },
  {
   "cell_type": "code",
   "execution_count": null,
   "id": "c9b68a25-68c7-4b60-87aa-6e093d6e28bb",
   "metadata": {},
   "outputs": [],
   "source": [
    "SELECT MAX(budget) FROM bollywood_movies\n",
    "#gives the max of all the budgets"
   ]
  },
  {
   "cell_type": "markdown",
   "id": "41335f5b-81bf-42e0-9d47-65b4e87e510c",
   "metadata": {},
   "source": [
    "<H2 style=\"color:#FF0D86\">2. MIN</H2>"
   ]
  },
  {
   "cell_type": "code",
   "execution_count": null,
   "id": "213604bf-df36-4541-a9ec-1d36a293ed56",
   "metadata": {},
   "outputs": [],
   "source": [
    "SELECT MIN(budget) FROM bollywood_movies\n",
    "#gives the min of all the budgets"
   ]
  },
  {
   "cell_type": "markdown",
   "id": "88cb1431-dec0-40dd-8887-d082c557776a",
   "metadata": {},
   "source": [
    "<H2 style=\"color:#FF0D86\">3. SUM</H2>"
   ]
  },
  {
   "cell_type": "code",
   "execution_count": null,
   "id": "8514bf31-b130-4f8a-82b2-b8623892f570",
   "metadata": {},
   "outputs": [],
   "source": [
    "SELECT SUM(india_gross) FROM bollywood_movies\n",
    "#This query calculates the total gross earnings in India from all movies in the bollywood_movies table."
   ]
  },
  {
   "cell_type": "markdown",
   "id": "99fd631e-f23a-4a36-87ca-831b57492fec",
   "metadata": {},
   "source": [
    "<H2 style=\"color:#FF0D86\">4. AVG</H2>"
   ]
  },
  {
   "cell_type": "code",
   "execution_count": null,
   "id": "2a4cc7e7-1ebc-4743-8f64-0445145ca73d",
   "metadata": {},
   "outputs": [],
   "source": [
    "SELECT AVG(india_gross) FROM bollywood_movies"
   ]
  },
  {
   "cell_type": "markdown",
   "id": "1da8670e-0ce0-412a-956e-ea41583b4b36",
   "metadata": {},
   "source": [
    "<H2 style=\"color:#FF0D86\">5. COUNT</H2>"
   ]
  },
  {
   "cell_type": "markdown",
   "id": "05419c9e-5a93-4c93-9d9f-4144f467be04",
   "metadata": {},
   "source": [
    "<h4>-Including the duplicate values:</h54>"
   ]
  },
  {
   "cell_type": "code",
   "execution_count": null,
   "id": "9b518dd0-c9a0-40b2-a551-7c244830a04c",
   "metadata": {},
   "outputs": [],
   "source": [
    "SELECT COUNT(*) FROM bollywood_movies;\n",
    "#This query returns the total number of rows in the bollywood_movies table."
   ]
  },
  {
   "cell_type": "markdown",
   "id": "f68329f3-9c5d-4da2-b579-2ee9c9c862d3",
   "metadata": {},
   "source": [
    "<h4>-Excluding the duplicate values i.e. Count with distinct values:</h4>"
   ]
  },
  {
   "cell_type": "code",
   "execution_count": null,
   "id": "b00f7273-8db5-4808-b229-d621356b00a9",
   "metadata": {},
   "outputs": [],
   "source": [
    "SELECT COUNT(DISTINCT actor) FROM bollywood_movies;\n",
    "#To count the distinct values in the actor column of the bollywood_movies table"
   ]
  },
  {
   "cell_type": "code",
   "execution_count": null,
   "id": "a70bf027-b925-4848-a52e-a315a89ccf16",
   "metadata": {},
   "outputs": [],
   "source": [
    "SELECT COUNT(DISTINCT director) FROM bollywood_movies"
   ]
  }
 ],
 "metadata": {
  "kernelspec": {
   "display_name": "Python 3 (ipykernel)",
   "language": "python",
   "name": "python3"
  },
  "language_info": {
   "codemirror_mode": {
    "name": "ipython",
    "version": 3
   },
   "file_extension": ".py",
   "mimetype": "text/x-python",
   "name": "python",
   "nbconvert_exporter": "python",
   "pygments_lexer": "ipython3",
   "version": "3.12.4"
  }
 },
 "nbformat": 4,
 "nbformat_minor": 5
}
