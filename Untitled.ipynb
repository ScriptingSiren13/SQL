{
 "cells": [
  {
   "cell_type": "code",
   "execution_count": 1,
   "id": "42145196-1f58-47f5-bbfb-c6c139c1d602",
   "metadata": {},
   "outputs": [
    {
     "name": "stdout",
     "output_type": "stream",
     "text": [
      "Requirement already satisfied: ipython-sql in c:\\users\\hp\\appdata\\local\\programs\\python\\python312\\lib\\site-packages (0.5.0)\n",
      "Requirement already satisfied: prettytable in c:\\users\\hp\\appdata\\local\\programs\\python\\python312\\lib\\site-packages (from ipython-sql) (3.12.0)\n",
      "Requirement already satisfied: ipython in c:\\users\\hp\\appdata\\local\\programs\\python\\python312\\lib\\site-packages (from ipython-sql) (8.26.0)\n",
      "Requirement already satisfied: sqlalchemy>=2.0 in c:\\users\\hp\\appdata\\local\\programs\\python\\python312\\lib\\site-packages (from ipython-sql) (2.0.36)\n",
      "Requirement already satisfied: sqlparse in c:\\users\\hp\\appdata\\local\\programs\\python\\python312\\lib\\site-packages (from ipython-sql) (0.5.1)\n",
      "Requirement already satisfied: six in c:\\users\\hp\\appdata\\local\\programs\\python\\python312\\lib\\site-packages (from ipython-sql) (1.16.0)\n",
      "Requirement already satisfied: ipython-genutils in c:\\users\\hp\\appdata\\local\\programs\\python\\python312\\lib\\site-packages (from ipython-sql) (0.2.0)\n",
      "Requirement already satisfied: typing-extensions>=4.6.0 in c:\\users\\hp\\appdata\\local\\programs\\python\\python312\\lib\\site-packages (from sqlalchemy>=2.0->ipython-sql) (4.12.2)\n",
      "Requirement already satisfied: greenlet!=0.4.17 in c:\\users\\hp\\appdata\\local\\programs\\python\\python312\\lib\\site-packages (from sqlalchemy>=2.0->ipython-sql) (3.1.1)\n",
      "Requirement already satisfied: decorator in c:\\users\\hp\\appdata\\local\\programs\\python\\python312\\lib\\site-packages (from ipython->ipython-sql) (5.1.1)\n",
      "Requirement already satisfied: jedi>=0.16 in c:\\users\\hp\\appdata\\local\\programs\\python\\python312\\lib\\site-packages (from ipython->ipython-sql) (0.19.1)\n",
      "Requirement already satisfied: matplotlib-inline in c:\\users\\hp\\appdata\\local\\programs\\python\\python312\\lib\\site-packages (from ipython->ipython-sql) (0.1.7)\n",
      "Requirement already satisfied: prompt-toolkit<3.1.0,>=3.0.41 in c:\\users\\hp\\appdata\\local\\programs\\python\\python312\\lib\\site-packages (from ipython->ipython-sql) (3.0.47)\n",
      "Requirement already satisfied: pygments>=2.4.0 in c:\\users\\hp\\appdata\\local\\programs\\python\\python312\\lib\\site-packages (from ipython->ipython-sql) (2.18.0)\n",
      "Requirement already satisfied: stack-data in c:\\users\\hp\\appdata\\local\\programs\\python\\python312\\lib\\site-packages (from ipython->ipython-sql) (0.6.3)\n",
      "Requirement already satisfied: traitlets>=5.13.0 in c:\\users\\hp\\appdata\\local\\programs\\python\\python312\\lib\\site-packages (from ipython->ipython-sql) (5.14.3)\n",
      "Requirement already satisfied: colorama in c:\\users\\hp\\appdata\\local\\programs\\python\\python312\\lib\\site-packages (from ipython->ipython-sql) (0.4.6)\n",
      "Requirement already satisfied: wcwidth in c:\\users\\hp\\appdata\\local\\programs\\python\\python312\\lib\\site-packages (from prettytable->ipython-sql) (0.2.13)\n",
      "Requirement already satisfied: parso<0.9.0,>=0.8.3 in c:\\users\\hp\\appdata\\local\\programs\\python\\python312\\lib\\site-packages (from jedi>=0.16->ipython->ipython-sql) (0.8.4)\n",
      "Requirement already satisfied: executing>=1.2.0 in c:\\users\\hp\\appdata\\local\\programs\\python\\python312\\lib\\site-packages (from stack-data->ipython->ipython-sql) (2.0.1)\n",
      "Requirement already satisfied: asttokens>=2.1.0 in c:\\users\\hp\\appdata\\local\\programs\\python\\python312\\lib\\site-packages (from stack-data->ipython->ipython-sql) (2.4.1)\n",
      "Requirement already satisfied: pure-eval in c:\\users\\hp\\appdata\\local\\programs\\python\\python312\\lib\\site-packages (from stack-data->ipython->ipython-sql) (0.2.2)\n"
     ]
    }
   ],
   "source": [
    "!pip install ipython-sql\n"
   ]
  },
  {
   "cell_type": "code",
   "execution_count": 2,
   "id": "ea3601e3-94b6-4f71-9f3f-0fe3bace0422",
   "metadata": {},
   "outputs": [
    {
     "name": "stdout",
     "output_type": "stream",
     "text": [
      "Requirement already satisfied: pymysql in c:\\users\\hp\\appdata\\local\\programs\\python\\python312\\lib\\site-packages (1.1.1)\n"
     ]
    }
   ],
   "source": [
    "!pip install pymysql\n"
   ]
  },
  {
   "cell_type": "code",
   "execution_count": 3,
   "id": "6c5e19a9-c2eb-4a68-804f-4610db69d693",
   "metadata": {},
   "outputs": [],
   "source": [
    "%load_ext sql\n"
   ]
  },
  {
   "cell_type": "code",
   "execution_count": 4,
   "id": "2063c715-5479-4d4d-8a98-d14b1090b651",
   "metadata": {},
   "outputs": [],
   "source": [
    "%sql sqlite:///my_database.db\n"
   ]
  },
  {
   "cell_type": "markdown",
   "id": "0df71e7b-859f-4176-a06e-5f655bafdff1",
   "metadata": {},
   "source": [
    "<H2>DDL COMMANDS:</H2>"
   ]
  },
  {
   "cell_type": "markdown",
   "id": "6be40c60-febe-4266-a90d-4bd48d30cd42",
   "metadata": {},
   "source": [
    "<H3>1. CREATE</H3>"
   ]
  },
  {
   "cell_type": "markdown",
   "id": "547d95b9-ac17-4e3d-9389-af07fae6265c",
   "metadata": {},
   "source": [
    "<H4>-CREATING A TABLE:</H4>"
   ]
  },
  {
   "cell_type": "code",
   "execution_count": 5,
   "id": "c627c78b-6c55-4348-9d6f-147fd936de61",
   "metadata": {},
   "outputs": [
    {
     "name": "stdout",
     "output_type": "stream",
     "text": [
      " * sqlite:///my_database.db\n",
      "Done.\n"
     ]
    },
    {
     "data": {
      "text/plain": [
       "[]"
      ]
     },
     "execution_count": 5,
     "metadata": {},
     "output_type": "execute_result"
    }
   ],
   "source": [
    "%%sql\n",
    "CREATE TABLE IF NOT EXISTS users(\n",
    "    id integer,\n",
    "    name varchar(255),\n",
    "    age integer)"
   ]
  },
  {
   "cell_type": "markdown",
   "id": "70e25bf1-5935-4679-9d5b-7acf43349c7f",
   "metadata": {},
   "source": [
    "<H4>-CREATING A DATABASE:</H4>"
   ]
  },
  {
   "cell_type": "code",
   "execution_count": 6,
   "id": "ca943ae6-f6f7-4a00-bc82-542a28597982",
   "metadata": {},
   "outputs": [],
   "source": [
    "# CREATE DATABaSE IF NOT EXISTS databasename"
   ]
  },
  {
   "cell_type": "markdown",
   "id": "a48f85dd-277c-4b58-a7b4-f74a62c9ca8c",
   "metadata": {},
   "source": [
    "<h3>2.TRUNCATE TABLE:</h3>"
   ]
  },
  {
   "cell_type": "code",
   "execution_count": 7,
   "id": "b54191aa-56cf-492d-b4f0-3862b350da2e",
   "metadata": {},
   "outputs": [
    {
     "name": "stdout",
     "output_type": "stream",
     "text": [
      " * sqlite:///my_database.db\n",
      "(sqlite3.OperationalError) near \"TRUNCATE\": syntax error\n",
      "[SQL: TRUNCATE TABLE users;]\n",
      "(Background on this error at: https://sqlalche.me/e/20/e3q8)\n"
     ]
    }
   ],
   "source": [
    "%%sql\n",
    "TRUNCATE TABLE users;"
   ]
  },
  {
   "cell_type": "markdown",
   "id": "3707703c-aafe-4250-b2eb-1906986c1716",
   "metadata": {},
   "source": [
    "<h3>3. DROP:</h3>"
   ]
  },
  {
   "cell_type": "markdown",
   "id": "7315bf01-ec5a-4a4c-8906-b0f5d70326a1",
   "metadata": {},
   "source": [
    "<h4>-DROP DATABASE:</h4>"
   ]
  },
  {
   "cell_type": "code",
   "execution_count": 8,
   "id": "87b64234-ea58-47e3-ab94-79db59c7b593",
   "metadata": {},
   "outputs": [],
   "source": [
    "# DROP DATABASE databasename"
   ]
  },
  {
   "cell_type": "markdown",
   "id": "58d067ed-6bc4-488c-b247-6008fbe129de",
   "metadata": {},
   "source": [
    "<H4>DROP TABLE:</H4>"
   ]
  },
  {
   "cell_type": "code",
   "execution_count": 9,
   "id": "4049e6ed-5072-4149-a9a0-b23885859552",
   "metadata": {},
   "outputs": [
    {
     "name": "stdout",
     "output_type": "stream",
     "text": [
      " * sqlite:///my_database.db\n",
      "Done.\n"
     ]
    },
    {
     "data": {
      "text/plain": [
       "[]"
      ]
     },
     "execution_count": 9,
     "metadata": {},
     "output_type": "execute_result"
    }
   ],
   "source": [
    "%%sql\n",
    "DROP TABLE users"
   ]
  },
  {
   "cell_type": "markdown",
   "id": "03fe7bee-3bf2-4840-b6ee-67609ac481a6",
   "metadata": {},
   "source": [
    "<h2>CONSTRAINTS:</h2>"
   ]
  },
  {
   "cell_type": "markdown",
   "id": "b858bfcd-e2da-45fe-93db-341ba51fa6eb",
   "metadata": {},
   "source": [
    "<h4>1. NOT NULL:</h4>"
   ]
  },
  {
   "cell_type": "code",
   "execution_count": 10,
   "id": "20805072-96a3-43ba-927b-5600297b8d28",
   "metadata": {},
   "outputs": [
    {
     "name": "stdout",
     "output_type": "stream",
     "text": [
      " * sqlite:///my_database.db\n",
      "(sqlite3.OperationalError) table persons already exists\n",
      "[SQL: CREATE TABLE persons(\n",
      "id integer NOT NULL,\n",
      "name varchar(255)  \n",
      ")]\n",
      "(Background on this error at: https://sqlalche.me/e/20/e3q8)\n"
     ]
    }
   ],
   "source": [
    "%%sql\n",
    "CREATE TABLE persons(\n",
    "id integer NOT NULL,\n",
    "name varchar(255)  \n",
    ")"
   ]
  },
  {
   "cell_type": "markdown",
   "id": "8ea12e8d-25bc-4ee6-aa2a-76aa1375c6f9",
   "metadata": {},
   "source": [
    "<H4>2. UNIQUE:</H4>"
   ]
  },
  {
   "cell_type": "code",
   "execution_count": 14,
   "id": "048894ef-e2e2-4e47-bf1b-8ff3d7751884",
   "metadata": {},
   "outputs": [
    {
     "ename": "SyntaxError",
     "evalue": "invalid syntax (639820975.py, line 3)",
     "output_type": "error",
     "traceback": [
      "\u001b[1;36m  Cell \u001b[1;32mIn[14], line 3\u001b[1;36m\u001b[0m\n\u001b[1;33m    CREATE TABLE books(\u001b[0m\n\u001b[1;37m           ^\u001b[0m\n\u001b[1;31mSyntaxError\u001b[0m\u001b[1;31m:\u001b[0m invalid syntax\n"
     ]
    }
   ],
   "source": [
    "# /*1ST WAY:*/\n",
    "%%sql\n",
    "CREATE TABLE books(\n",
    "    bid int,\n",
    "    name varchar(255)\n",
    ")"
   ]
  },
  {
   "cell_type": "code",
   "execution_count": null,
   "id": "4413da1c-fff3-4798-9ffa-05dbc764c0b0",
   "metadata": {},
   "outputs": [],
   "source": [
    "#2ND WAY:\n",
    "%%sql\n",
    "CREATE TABLE shop(\n",
    "shop_id int,\n",
    "shop_name varchar(255),\n",
    "email varchar(255),\n",
    "UNIQUE (email)\n",
    ")\n",
    "\n"
   ]
  },
  {
   "cell_type": "markdown",
   "id": "740bf6fd-54fc-4117-b036-a0a6a3ae05eb",
   "metadata": {},
   "source": [
    "<h4>3. PRIMARY KEY:</h4>"
   ]
  },
  {
   "cell_type": "code",
   "execution_count": null,
   "id": "bfe3f58e-90a8-490a-9bc6-17f2aa28001e",
   "metadata": {},
   "outputs": [],
   "source": [
    "#1st way:\n",
    "%%sql\n",
    "CREATE TABLE school(\n",
    "    id integer PRIMARY KEY,\n",
    "    name varchar(255)   \n",
    ")"
   ]
  },
  {
   "cell_type": "code",
   "execution_count": null,
   "id": "1520be97-5807-4ea6-b65e-8c7bd73f2d0d",
   "metadata": {},
   "outputs": [],
   "source": [
    "#2nd way:\n",
    "%%sql\n",
    "CREATE TABLE college(\n",
    "    id integer,\n",
    "    name varchar(255),\n",
    "    PRIMARY KEY(id)\n",
    ")"
   ]
  },
  {
   "cell_type": "markdown",
   "id": "50dacfe9-d8a6-4b8c-9a7b-14520a8685bb",
   "metadata": {},
   "source": [
    "<h4>4. FOREIGN KEY:</h4>"
   ]
  },
  {
   "cell_type": "code",
   "execution_count": null,
   "id": "01dfe533-3a5b-4edc-a8dc-f5dd5538b527",
   "metadata": {},
   "outputs": [],
   "source": [
    "%%sql\n",
    "CREATE TABLE orders(\n",
    "    order_id INTEGER,\n",
    "    user_id INTEGER,\n",
    "    time_of_order DATETIME,\n",
    "    PRIMARY KEY(order_id),\n",
    "    FOREIGN KEY(user_id) REFERENCES users(id)\n",
    ");\n",
    "#if u delete the users table, an error will come up"
   ]
  },
  {
   "cell_type": "markdown",
   "id": "237261d1-b18f-4571-a9de-11e577c21a99",
   "metadata": {},
   "source": [
    "<h4>5. CHECK:</h4>"
   ]
  },
  {
   "cell_type": "code",
   "execution_count": null,
   "id": "be388a1e-cee8-41bd-b6ab-8c3b5618246b",
   "metadata": {},
   "outputs": [],
   "source": [
    "%%sql\n",
    "CREATE TABLE students(\n",
    "    s_id integer PRIMARY KEY,\n",
    "    age integer CHECK(age>6 AND age<25)\n",
    ")"
   ]
  },
  {
   "cell_type": "markdown",
   "id": "aaba8ef6-d0e1-4bab-89a5-3232f7ea9b71",
   "metadata": {},
   "source": [
    "<h4>6. DEFAULT</h4>"
   ]
  },
  {
   "cell_type": "code",
   "execution_count": 16,
   "id": "dde3b098-1ce7-4d2d-a261-fd68a0b9125a",
   "metadata": {},
   "outputs": [
    {
     "name": "stdout",
     "output_type": "stream",
     "text": [
      " * sqlite:///my_database.db\n",
      "(sqlite3.OperationalError) table passengers already exists\n",
      "[SQL: CREATE TABLE passengers(\n",
      "id integer PRIMARY KEY,\n",
      "name varchar(255),\n",
      "gender varchar(255) DEFAULT \"others\"    \n",
      ")]\n",
      "(Background on this error at: https://sqlalche.me/e/20/e3q8)\n"
     ]
    }
   ],
   "source": [
    "#Ist USE:\n",
    "%%sql\n",
    "CREATE TABLE passengers(\n",
    "id integer PRIMARY KEY,\n",
    "name varchar(255),\n",
    "gender varchar(255) DEFAULT \"others\"    \n",
    ")"
   ]
  },
  {
   "cell_type": "code",
   "execution_count": null,
   "id": "8f849792-2b22-4b19-8b60-964dd442723e",
   "metadata": {},
   "outputs": [],
   "source": [
    "pip install --upgrade ipython-sql prettytable\n"
   ]
  },
  {
   "cell_type": "code",
   "execution_count": null,
   "id": "0d9fb5bb-e202-4c83-95aa-ddf258785e2b",
   "metadata": {},
   "outputs": [],
   "source": [
    "%%sql\n",
    "CREATE TABLE passenger(\n",
    "id integer PRIMARY KEY,\n",
    "name varchar(255),\n",
    "journey_date datetime DEFAULT CURRENT_TIMESTAMP   \n",
    ")"
   ]
  },
  {
   "cell_type": "code",
   "execution_count": null,
   "id": "0516b974-9867-4580-8f54-8dfc317d2939",
   "metadata": {},
   "outputs": [],
   "source": [
    "%%sql\n",
    "SELECT * FROM passenger;\n"
   ]
  },
  {
   "cell_type": "markdown",
   "id": "c53abdd2-ca9a-4bf8-be57-dc7cf24c3361",
   "metadata": {},
   "source": [
    "<h4>7. AUTO INCREMENT</h4>"
   ]
  },
  {
   "cell_type": "code",
   "execution_count": null,
   "id": "66d276e4-b437-4069-ad64-0c730dca86d1",
   "metadata": {},
   "outputs": [],
   "source": [
    "%%sql\n",
    "CREATE TABLE olds(\n",
    "id integer PRIMARY KEY AUTOINCREMENT,\n",
    "name varchar(255) NOT NULL\n",
    ")"
   ]
  },
  {
   "cell_type": "markdown",
   "id": "817a16d2-8745-40fe-8f6d-189755de03c9",
   "metadata": {},
   "source": [
    "<H2>4. ALTER </H2>"
   ]
  },
  {
   "cell_type": "markdown",
   "id": "9d994c14-e908-46f8-ae13-2a6769d77e58",
   "metadata": {},
   "source": [
    "<H3>a. ADD COLUMN:</H3>"
   ]
  },
  {
   "cell_type": "code",
   "execution_count": 15,
   "id": "cc0754a3-56fb-42ff-9e43-522cb6b098ca",
   "metadata": {
    "scrolled": true
   },
   "outputs": [
    {
     "name": "stdout",
     "output_type": "stream",
     "text": [
      " * sqlite:///my_database.db\n",
      "Done.\n"
     ]
    },
    {
     "ename": "KeyError",
     "evalue": "'DEFAULT'",
     "output_type": "error",
     "traceback": [
      "\u001b[1;31m---------------------------------------------------------------------------\u001b[0m",
      "\u001b[1;31mKeyError\u001b[0m                                  Traceback (most recent call last)",
      "Cell \u001b[1;32mIn[15], line 1\u001b[0m\n\u001b[1;32m----> 1\u001b[0m \u001b[43mget_ipython\u001b[49m\u001b[43m(\u001b[49m\u001b[43m)\u001b[49m\u001b[38;5;241;43m.\u001b[39;49m\u001b[43mrun_cell_magic\u001b[49m\u001b[43m(\u001b[49m\u001b[38;5;124;43m'\u001b[39;49m\u001b[38;5;124;43msql\u001b[39;49m\u001b[38;5;124;43m'\u001b[39;49m\u001b[43m,\u001b[49m\u001b[43m \u001b[49m\u001b[38;5;124;43m'\u001b[39;49m\u001b[38;5;124;43m'\u001b[39;49m\u001b[43m,\u001b[49m\u001b[43m \u001b[49m\u001b[38;5;124;43m'\u001b[39;49m\u001b[38;5;124;43mALTER TABLE school ADD COLUMN class_room varchar(255) NOT NULL\u001b[39;49m\u001b[38;5;130;43;01m\\n\u001b[39;49;00m\u001b[38;5;124;43m'\u001b[39;49m\u001b[43m)\u001b[49m\n",
      "File \u001b[1;32m~\\AppData\\Local\\Programs\\Python\\Python312\\Lib\\site-packages\\IPython\\core\\interactiveshell.py:2541\u001b[0m, in \u001b[0;36mInteractiveShell.run_cell_magic\u001b[1;34m(self, magic_name, line, cell)\u001b[0m\n\u001b[0;32m   2539\u001b[0m \u001b[38;5;28;01mwith\u001b[39;00m \u001b[38;5;28mself\u001b[39m\u001b[38;5;241m.\u001b[39mbuiltin_trap:\n\u001b[0;32m   2540\u001b[0m     args \u001b[38;5;241m=\u001b[39m (magic_arg_s, cell)\n\u001b[1;32m-> 2541\u001b[0m     result \u001b[38;5;241m=\u001b[39m \u001b[43mfn\u001b[49m\u001b[43m(\u001b[49m\u001b[38;5;241;43m*\u001b[39;49m\u001b[43margs\u001b[49m\u001b[43m,\u001b[49m\u001b[43m \u001b[49m\u001b[38;5;241;43m*\u001b[39;49m\u001b[38;5;241;43m*\u001b[39;49m\u001b[43mkwargs\u001b[49m\u001b[43m)\u001b[49m\n\u001b[0;32m   2543\u001b[0m \u001b[38;5;66;03m# The code below prevents the output from being displayed\u001b[39;00m\n\u001b[0;32m   2544\u001b[0m \u001b[38;5;66;03m# when using magics with decorator @output_can_be_silenced\u001b[39;00m\n\u001b[0;32m   2545\u001b[0m \u001b[38;5;66;03m# when the last Python token in the expression is a ';'.\u001b[39;00m\n\u001b[0;32m   2546\u001b[0m \u001b[38;5;28;01mif\u001b[39;00m \u001b[38;5;28mgetattr\u001b[39m(fn, magic\u001b[38;5;241m.\u001b[39mMAGIC_OUTPUT_CAN_BE_SILENCED, \u001b[38;5;28;01mFalse\u001b[39;00m):\n",
      "File \u001b[1;32m~\\AppData\\Local\\Programs\\Python\\Python312\\Lib\\site-packages\\sql\\magic.py:219\u001b[0m, in \u001b[0;36mSqlMagic.execute\u001b[1;34m(self, line, cell, local_ns)\u001b[0m\n\u001b[0;32m    216\u001b[0m     \u001b[38;5;28;01mreturn\u001b[39;00m\n\u001b[0;32m    218\u001b[0m \u001b[38;5;28;01mtry\u001b[39;00m:\n\u001b[1;32m--> 219\u001b[0m     result \u001b[38;5;241m=\u001b[39m \u001b[43msql\u001b[49m\u001b[38;5;241;43m.\u001b[39;49m\u001b[43mrun\u001b[49m\u001b[38;5;241;43m.\u001b[39;49m\u001b[43mrun\u001b[49m\u001b[43m(\u001b[49m\u001b[43mconn\u001b[49m\u001b[43m,\u001b[49m\u001b[43m \u001b[49m\u001b[43mparsed\u001b[49m\u001b[43m[\u001b[49m\u001b[38;5;124;43m\"\u001b[39;49m\u001b[38;5;124;43msql\u001b[39;49m\u001b[38;5;124;43m\"\u001b[39;49m\u001b[43m]\u001b[49m\u001b[43m,\u001b[49m\u001b[43m \u001b[49m\u001b[38;5;28;43mself\u001b[39;49m\u001b[43m,\u001b[49m\u001b[43m \u001b[49m\u001b[43muser_ns\u001b[49m\u001b[43m)\u001b[49m\n\u001b[0;32m    221\u001b[0m     \u001b[38;5;28;01mif\u001b[39;00m (\n\u001b[0;32m    222\u001b[0m         result \u001b[38;5;129;01mis\u001b[39;00m \u001b[38;5;129;01mnot\u001b[39;00m \u001b[38;5;28;01mNone\u001b[39;00m\n\u001b[0;32m    223\u001b[0m         \u001b[38;5;129;01mand\u001b[39;00m \u001b[38;5;129;01mnot\u001b[39;00m \u001b[38;5;28misinstance\u001b[39m(result, \u001b[38;5;28mstr\u001b[39m)\n\u001b[1;32m   (...)\u001b[0m\n\u001b[0;32m    226\u001b[0m         \u001b[38;5;66;03m# Instead of returning values, set variables directly in the\u001b[39;00m\n\u001b[0;32m    227\u001b[0m         \u001b[38;5;66;03m# user's namespace. Variable names given by column names\u001b[39;00m\n\u001b[0;32m    229\u001b[0m         \u001b[38;5;28;01mif\u001b[39;00m \u001b[38;5;28mself\u001b[39m\u001b[38;5;241m.\u001b[39mautopandas:\n",
      "File \u001b[1;32m~\\AppData\\Local\\Programs\\Python\\Python312\\Lib\\site-packages\\sql\\run.py:374\u001b[0m, in \u001b[0;36mrun\u001b[1;34m(conn, sql, config, user_namespace)\u001b[0m\n\u001b[0;32m    372\u001b[0m     \u001b[38;5;28;01mif\u001b[39;00m result \u001b[38;5;129;01mand\u001b[39;00m config\u001b[38;5;241m.\u001b[39mfeedback:\n\u001b[0;32m    373\u001b[0m         \u001b[38;5;28mprint\u001b[39m(interpret_rowcount(result\u001b[38;5;241m.\u001b[39mrowcount))\n\u001b[1;32m--> 374\u001b[0m resultset \u001b[38;5;241m=\u001b[39m \u001b[43mResultSet\u001b[49m\u001b[43m(\u001b[49m\u001b[43mresult\u001b[49m\u001b[43m,\u001b[49m\u001b[43m \u001b[49m\u001b[43mconfig\u001b[49m\u001b[43m)\u001b[49m\n\u001b[0;32m    375\u001b[0m \u001b[38;5;28;01mif\u001b[39;00m config\u001b[38;5;241m.\u001b[39mautopandas:\n\u001b[0;32m    376\u001b[0m     \u001b[38;5;28;01mreturn\u001b[39;00m resultset\u001b[38;5;241m.\u001b[39mDataFrame()\n",
      "File \u001b[1;32m~\\AppData\\Local\\Programs\\Python\\Python312\\Lib\\site-packages\\sql\\run.py:116\u001b[0m, in \u001b[0;36mResultSet.__init__\u001b[1;34m(self, sqlaproxy, config)\u001b[0m\n\u001b[0;32m    114\u001b[0m         \u001b[38;5;28mlist\u001b[39m\u001b[38;5;241m.\u001b[39m\u001b[38;5;21m__init__\u001b[39m(\u001b[38;5;28mself\u001b[39m, sqlaproxy\u001b[38;5;241m.\u001b[39mfetchall())\n\u001b[0;32m    115\u001b[0m     \u001b[38;5;28mself\u001b[39m\u001b[38;5;241m.\u001b[39mfield_names \u001b[38;5;241m=\u001b[39m unduplicate_field_names(\u001b[38;5;28mself\u001b[39m\u001b[38;5;241m.\u001b[39mkeys)\n\u001b[1;32m--> 116\u001b[0m     \u001b[38;5;28mself\u001b[39m\u001b[38;5;241m.\u001b[39mpretty \u001b[38;5;241m=\u001b[39m PrettyTable(\u001b[38;5;28mself\u001b[39m\u001b[38;5;241m.\u001b[39mfield_names, style\u001b[38;5;241m=\u001b[39m\u001b[43mprettytable\u001b[49m\u001b[38;5;241;43m.\u001b[39;49m\u001b[38;5;18;43m__dict__\u001b[39;49m\u001b[43m[\u001b[49m\u001b[43mconfig\u001b[49m\u001b[38;5;241;43m.\u001b[39;49m\u001b[43mstyle\u001b[49m\u001b[38;5;241;43m.\u001b[39;49m\u001b[43mupper\u001b[49m\u001b[43m(\u001b[49m\u001b[43m)\u001b[49m\u001b[43m]\u001b[49m)\n\u001b[0;32m    117\u001b[0m \u001b[38;5;28;01melse\u001b[39;00m:\n\u001b[0;32m    118\u001b[0m     \u001b[38;5;28mlist\u001b[39m\u001b[38;5;241m.\u001b[39m\u001b[38;5;21m__init__\u001b[39m(\u001b[38;5;28mself\u001b[39m, [])\n",
      "\u001b[1;31mKeyError\u001b[0m: 'DEFAULT'"
     ]
    }
   ],
   "source": [
    "%%sql\n",
    "ALTER TABLE school ADD COLUMN class_room varchar(255) NOT NULL"
   ]
  },
  {
   "cell_type": "markdown",
   "id": "3c948905-a362-4242-98d5-f7b9497de106",
   "metadata": {},
   "source": [
    "<h3>b. DROP A COLUMN</h3>"
   ]
  },
  {
   "cell_type": "code",
   "execution_count": 17,
   "id": "627a6b71-8881-4aaa-aa4a-62ec02f2f48d",
   "metadata": {},
   "outputs": [
    {
     "name": "stdout",
     "output_type": "stream",
     "text": [
      " * sqlite:///my_database.db\n",
      "Done.\n"
     ]
    },
    {
     "data": {
      "text/plain": [
       "[]"
      ]
     },
     "execution_count": 17,
     "metadata": {},
     "output_type": "execute_result"
    }
   ],
   "source": [
    "%%sql\n",
    "ALTER TABLE school DROP COLUMN class_room"
   ]
  },
  {
   "cell_type": "markdown",
   "id": "346a7587-d3e0-4dd8-99eb-c209779d21d3",
   "metadata": {},
   "source": [
    "<H3>c. MODIFY COLUMN</H3>"
   ]
  },
  {
   "cell_type": "code",
   "execution_count": 19,
   "id": "1fa51a32-8484-46d5-bfb5-4a6f70363df1",
   "metadata": {},
   "outputs": [
    {
     "name": "stdout",
     "output_type": "stream",
     "text": [
      " * sqlite:///my_database.db\n",
      "(sqlite3.OperationalError) near \"MODIFY\": syntax error\n",
      "[SQL: ALTER TABLE school MODIFY COLUMN id varchar(255)]\n",
      "(Background on this error at: https://sqlalche.me/e/20/e3q8)\n"
     ]
    }
   ],
   "source": [
    "%%sql\n",
    "ALTER TABLE school MODIFY COLUMN id varchar(255)"
   ]
  },
  {
   "cell_type": "code",
   "execution_count": null,
   "id": "ad5ef489-cd1e-4270-8065-8f45c6b5472b",
   "metadata": {},
   "outputs": [],
   "source": []
  }
 ],
 "metadata": {
  "kernelspec": {
   "display_name": "Python 3 (ipykernel)",
   "language": "python",
   "name": "python3"
  },
  "language_info": {
   "codemirror_mode": {
    "name": "ipython",
    "version": 3
   },
   "file_extension": ".py",
   "mimetype": "text/x-python",
   "name": "python",
   "nbconvert_exporter": "python",
   "pygments_lexer": "ipython3",
   "version": "3.12.4"
  }
 },
 "nbformat": 4,
 "nbformat_minor": 5
}
