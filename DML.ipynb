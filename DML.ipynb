{
 "cells": [
  {
   "cell_type": "code",
   "execution_count": 1,
   "id": "7b4a77e0-30e6-4119-9dbf-8fa4323c513c",
   "metadata": {},
   "outputs": [
    {
     "name": "stdout",
     "output_type": "stream",
     "text": [
      "Requirement already satisfied: ipython-sql in c:\\users\\hp\\appdata\\local\\programs\\python\\python312\\lib\\site-packages (0.5.0)\n",
      "Requirement already satisfied: prettytable in c:\\users\\hp\\appdata\\local\\programs\\python\\python312\\lib\\site-packages (from ipython-sql) (3.12.0)\n",
      "Requirement already satisfied: ipython in c:\\users\\hp\\appdata\\local\\programs\\python\\python312\\lib\\site-packages (from ipython-sql) (8.26.0)\n",
      "Requirement already satisfied: sqlalchemy>=2.0 in c:\\users\\hp\\appdata\\local\\programs\\python\\python312\\lib\\site-packages (from ipython-sql) (2.0.36)\n",
      "Requirement already satisfied: sqlparse in c:\\users\\hp\\appdata\\local\\programs\\python\\python312\\lib\\site-packages (from ipython-sql) (0.5.1)\n",
      "Requirement already satisfied: six in c:\\users\\hp\\appdata\\local\\programs\\python\\python312\\lib\\site-packages (from ipython-sql) (1.16.0)\n",
      "Requirement already satisfied: ipython-genutils in c:\\users\\hp\\appdata\\local\\programs\\python\\python312\\lib\\site-packages (from ipython-sql) (0.2.0)\n",
      "Requirement already satisfied: typing-extensions>=4.6.0 in c:\\users\\hp\\appdata\\local\\programs\\python\\python312\\lib\\site-packages (from sqlalchemy>=2.0->ipython-sql) (4.12.2)\n",
      "Requirement already satisfied: greenlet!=0.4.17 in c:\\users\\hp\\appdata\\local\\programs\\python\\python312\\lib\\site-packages (from sqlalchemy>=2.0->ipython-sql) (3.1.1)\n",
      "Requirement already satisfied: decorator in c:\\users\\hp\\appdata\\local\\programs\\python\\python312\\lib\\site-packages (from ipython->ipython-sql) (5.1.1)\n",
      "Requirement already satisfied: jedi>=0.16 in c:\\users\\hp\\appdata\\local\\programs\\python\\python312\\lib\\site-packages (from ipython->ipython-sql) (0.19.1)\n",
      "Requirement already satisfied: matplotlib-inline in c:\\users\\hp\\appdata\\local\\programs\\python\\python312\\lib\\site-packages (from ipython->ipython-sql) (0.1.7)\n",
      "Requirement already satisfied: prompt-toolkit<3.1.0,>=3.0.41 in c:\\users\\hp\\appdata\\local\\programs\\python\\python312\\lib\\site-packages (from ipython->ipython-sql) (3.0.47)\n",
      "Requirement already satisfied: pygments>=2.4.0 in c:\\users\\hp\\appdata\\local\\programs\\python\\python312\\lib\\site-packages (from ipython->ipython-sql) (2.18.0)\n",
      "Requirement already satisfied: stack-data in c:\\users\\hp\\appdata\\local\\programs\\python\\python312\\lib\\site-packages (from ipython->ipython-sql) (0.6.3)\n",
      "Requirement already satisfied: traitlets>=5.13.0 in c:\\users\\hp\\appdata\\local\\programs\\python\\python312\\lib\\site-packages (from ipython->ipython-sql) (5.14.3)\n",
      "Requirement already satisfied: colorama in c:\\users\\hp\\appdata\\local\\programs\\python\\python312\\lib\\site-packages (from ipython->ipython-sql) (0.4.6)\n",
      "Requirement already satisfied: wcwidth in c:\\users\\hp\\appdata\\local\\programs\\python\\python312\\lib\\site-packages (from prettytable->ipython-sql) (0.2.13)\n",
      "Requirement already satisfied: parso<0.9.0,>=0.8.3 in c:\\users\\hp\\appdata\\local\\programs\\python\\python312\\lib\\site-packages (from jedi>=0.16->ipython->ipython-sql) (0.8.4)\n",
      "Requirement already satisfied: executing>=1.2.0 in c:\\users\\hp\\appdata\\local\\programs\\python\\python312\\lib\\site-packages (from stack-data->ipython->ipython-sql) (2.0.1)\n",
      "Requirement already satisfied: asttokens>=2.1.0 in c:\\users\\hp\\appdata\\local\\programs\\python\\python312\\lib\\site-packages (from stack-data->ipython->ipython-sql) (2.4.1)\n",
      "Requirement already satisfied: pure-eval in c:\\users\\hp\\appdata\\local\\programs\\python\\python312\\lib\\site-packages (from stack-data->ipython->ipython-sql) (0.2.2)\n"
     ]
    }
   ],
   "source": [
    "!pip install ipython-sql\n"
   ]
  },
  {
   "cell_type": "code",
   "execution_count": 2,
   "id": "3ebdae13-30a1-4998-9d13-80a24c668b5a",
   "metadata": {},
   "outputs": [
    {
     "name": "stdout",
     "output_type": "stream",
     "text": [
      "Requirement already satisfied: pymysql in c:\\users\\hp\\appdata\\local\\programs\\python\\python312\\lib\\site-packages (1.1.1)\n"
     ]
    }
   ],
   "source": [
    "!pip install pymysql"
   ]
  },
  {
   "cell_type": "code",
   "execution_count": 4,
   "id": "ba8da887-5587-480a-82bc-6db122d66c84",
   "metadata": {},
   "outputs": [
    {
     "name": "stdout",
     "output_type": "stream",
     "text": [
      "Requirement already satisfied: ipython-sql in c:\\users\\hp\\appdata\\local\\programs\\python\\python312\\lib\\site-packages (0.5.0)\n",
      "Collecting mysql-connector-python\n",
      "  Downloading mysql_connector_python-9.1.0-cp312-cp312-win_amd64.whl.metadata (6.2 kB)\n",
      "Requirement already satisfied: prettytable in c:\\users\\hp\\appdata\\local\\programs\\python\\python312\\lib\\site-packages (from ipython-sql) (3.12.0)\n",
      "Requirement already satisfied: ipython in c:\\users\\hp\\appdata\\local\\programs\\python\\python312\\lib\\site-packages (from ipython-sql) (8.26.0)\n",
      "Requirement already satisfied: sqlalchemy>=2.0 in c:\\users\\hp\\appdata\\local\\programs\\python\\python312\\lib\\site-packages (from ipython-sql) (2.0.36)\n",
      "Requirement already satisfied: sqlparse in c:\\users\\hp\\appdata\\local\\programs\\python\\python312\\lib\\site-packages (from ipython-sql) (0.5.1)\n",
      "Requirement already satisfied: six in c:\\users\\hp\\appdata\\local\\programs\\python\\python312\\lib\\site-packages (from ipython-sql) (1.16.0)\n",
      "Requirement already satisfied: ipython-genutils in c:\\users\\hp\\appdata\\local\\programs\\python\\python312\\lib\\site-packages (from ipython-sql) (0.2.0)\n",
      "Requirement already satisfied: typing-extensions>=4.6.0 in c:\\users\\hp\\appdata\\local\\programs\\python\\python312\\lib\\site-packages (from sqlalchemy>=2.0->ipython-sql) (4.12.2)\n",
      "Requirement already satisfied: greenlet!=0.4.17 in c:\\users\\hp\\appdata\\local\\programs\\python\\python312\\lib\\site-packages (from sqlalchemy>=2.0->ipython-sql) (3.1.1)\n",
      "Requirement already satisfied: decorator in c:\\users\\hp\\appdata\\local\\programs\\python\\python312\\lib\\site-packages (from ipython->ipython-sql) (5.1.1)\n",
      "Requirement already satisfied: jedi>=0.16 in c:\\users\\hp\\appdata\\local\\programs\\python\\python312\\lib\\site-packages (from ipython->ipython-sql) (0.19.1)\n",
      "Requirement already satisfied: matplotlib-inline in c:\\users\\hp\\appdata\\local\\programs\\python\\python312\\lib\\site-packages (from ipython->ipython-sql) (0.1.7)\n",
      "Requirement already satisfied: prompt-toolkit<3.1.0,>=3.0.41 in c:\\users\\hp\\appdata\\local\\programs\\python\\python312\\lib\\site-packages (from ipython->ipython-sql) (3.0.47)\n",
      "Requirement already satisfied: pygments>=2.4.0 in c:\\users\\hp\\appdata\\local\\programs\\python\\python312\\lib\\site-packages (from ipython->ipython-sql) (2.18.0)\n",
      "Requirement already satisfied: stack-data in c:\\users\\hp\\appdata\\local\\programs\\python\\python312\\lib\\site-packages (from ipython->ipython-sql) (0.6.3)\n",
      "Requirement already satisfied: traitlets>=5.13.0 in c:\\users\\hp\\appdata\\local\\programs\\python\\python312\\lib\\site-packages (from ipython->ipython-sql) (5.14.3)\n",
      "Requirement already satisfied: colorama in c:\\users\\hp\\appdata\\local\\programs\\python\\python312\\lib\\site-packages (from ipython->ipython-sql) (0.4.6)\n",
      "Requirement already satisfied: wcwidth in c:\\users\\hp\\appdata\\local\\programs\\python\\python312\\lib\\site-packages (from prettytable->ipython-sql) (0.2.13)\n",
      "Requirement already satisfied: parso<0.9.0,>=0.8.3 in c:\\users\\hp\\appdata\\local\\programs\\python\\python312\\lib\\site-packages (from jedi>=0.16->ipython->ipython-sql) (0.8.4)\n",
      "Requirement already satisfied: executing>=1.2.0 in c:\\users\\hp\\appdata\\local\\programs\\python\\python312\\lib\\site-packages (from stack-data->ipython->ipython-sql) (2.0.1)\n",
      "Requirement already satisfied: asttokens>=2.1.0 in c:\\users\\hp\\appdata\\local\\programs\\python\\python312\\lib\\site-packages (from stack-data->ipython->ipython-sql) (2.4.1)\n",
      "Requirement already satisfied: pure-eval in c:\\users\\hp\\appdata\\local\\programs\\python\\python312\\lib\\site-packages (from stack-data->ipython->ipython-sql) (0.2.2)\n",
      "Downloading mysql_connector_python-9.1.0-cp312-cp312-win_amd64.whl (16.1 MB)\n",
      "   ---------------------------------------- 0.0/16.1 MB ? eta -:--:--\n",
      "   ---------------------------------------- 0.0/16.1 MB ? eta -:--:--\n",
      "   ---------------------------------------- 0.0/16.1 MB ? eta -:--:--\n",
      "   - -------------------------------------- 0.8/16.1 MB 3.7 MB/s eta 0:00:05\n",
      "   --- ------------------------------------ 1.6/16.1 MB 3.5 MB/s eta 0:00:05\n",
      "   ----- ---------------------------------- 2.1/16.1 MB 3.7 MB/s eta 0:00:04\n",
      "   ------ --------------------------------- 2.6/16.1 MB 3.1 MB/s eta 0:00:05\n",
      "   -------- ------------------------------- 3.4/16.1 MB 3.3 MB/s eta 0:00:04\n",
      "   ---------- ----------------------------- 4.2/16.1 MB 3.4 MB/s eta 0:00:04\n",
      "   ------------ --------------------------- 5.0/16.1 MB 3.4 MB/s eta 0:00:04\n",
      "   -------------- ------------------------- 5.8/16.1 MB 3.5 MB/s eta 0:00:03\n",
      "   ---------------- ----------------------- 6.6/16.1 MB 3.5 MB/s eta 0:00:03\n",
      "   ------------------ --------------------- 7.3/16.1 MB 3.5 MB/s eta 0:00:03\n",
      "   -------------------- ------------------- 8.1/16.1 MB 3.5 MB/s eta 0:00:03\n",
      "   ---------------------- ----------------- 8.9/16.1 MB 3.5 MB/s eta 0:00:03\n",
      "   ----------------------- ---------------- 9.4/16.1 MB 3.4 MB/s eta 0:00:02\n",
      "   ------------------------- -------------- 10.2/16.1 MB 3.5 MB/s eta 0:00:02\n",
      "   --------------------------- ------------ 11.0/16.1 MB 3.5 MB/s eta 0:00:02\n",
      "   ----------------------------- ---------- 11.8/16.1 MB 3.5 MB/s eta 0:00:02\n",
      "   ------------------------------- -------- 12.6/16.1 MB 3.6 MB/s eta 0:00:01\n",
      "   --------------------------------- ------ 13.4/16.1 MB 3.6 MB/s eta 0:00:01\n",
      "   ----------------------------------- ---- 14.2/16.1 MB 3.6 MB/s eta 0:00:01\n",
      "   ------------------------------------- -- 14.9/16.1 MB 3.6 MB/s eta 0:00:01\n",
      "   ---------------------------------------  15.7/16.1 MB 3.6 MB/s eta 0:00:01\n",
      "   ---------------------------------------- 16.1/16.1 MB 3.5 MB/s eta 0:00:00\n",
      "Installing collected packages: mysql-connector-python\n",
      "Successfully installed mysql-connector-python-9.1.0\n"
     ]
    }
   ],
   "source": [
    "!pip install ipython-sql mysql-connector-python\n"
   ]
  },
  {
   "cell_type": "code",
   "execution_count": 1,
   "id": "1695bdf9-560a-4fbb-9f1d-2678cd8decec",
   "metadata": {},
   "outputs": [],
   "source": [
    "%load_ext sql\n"
   ]
  },
  {
   "cell_type": "code",
   "execution_count": 3,
   "id": "1d4c4810-8983-47a5-baa7-c551f8d49628",
   "metadata": {},
   "outputs": [],
   "source": [
    "%sql sqlite:///my_database.db"
   ]
  },
  {
   "cell_type": "markdown",
   "id": "d776fc69-8da8-4b42-ac40-2caf69672216",
   "metadata": {},
   "source": [
    "<h1 style=\"color:red\">1. INSERT</h1>"
   ]
  },
  {
   "cell_type": "markdown",
   "id": "78907520-3efd-4576-958d-eae8bdc01a59",
   "metadata": {},
   "source": [
    "<h3 style=\"color:#FF69B4\">a. INSERT VALUES INTO COLUMNS:</h3>"
   ]
  },
  {
   "cell_type": "code",
   "execution_count": 6,
   "id": "21ab0dfb-241c-4601-9311-0de915de34a1",
   "metadata": {},
   "outputs": [
    {
     "name": "stdout",
     "output_type": "stream",
     "text": [
      " * sqlite:///my_database.db\n",
      "(sqlite3.OperationalError) table students already exists\n",
      "[SQL: CREATE TABLE students(\n",
      "s_id INTEGER PRIMARY KEY,\n",
      "name varchar(255),\n",
      "age INTEGER CHECK(age>6 AND age<18)\n",
      "    \n",
      ")]\n",
      "(Background on this error at: https://sqlalche.me/e/20/e3q8)\n"
     ]
    }
   ],
   "source": [
    "%%sql\n",
    "CREATE TABLE students(\n",
    "s_id INTEGER PRIMARY KEY,\n",
    "name varchar(255),\n",
    "age INTEGER CHECK(age>6 AND age<18)    \n",
    ")"
   ]
  },
  {
   "cell_type": "code",
   "execution_count": 7,
   "id": "22a25410-c857-4287-a928-92cecbd36213",
   "metadata": {},
   "outputs": [
    {
     "name": "stdout",
     "output_type": "stream",
     "text": [
      " * sqlite:///my_database.db\n",
      "(sqlite3.OperationalError) table students has no column named name\n",
      "[SQL: INSERT INTO students(s_id,name,age) VALUES (1,'isa',23)]\n",
      "(Background on this error at: https://sqlalche.me/e/20/e3q8)\n"
     ]
    }
   ],
   "source": [
    "#Ist way:\n",
    "%%sql\n",
    "INSERT INTO students(s_id,name,age) VALUES (1,'isa',23)"
   ]
  },
  {
   "cell_type": "code",
   "execution_count": null,
   "id": "da6faeb1-d78a-4b54-b5d5-01078a05a7c2",
   "metadata": {},
   "outputs": [],
   "source": [
    "#2nd way:\n",
    "INSERT INTO students VALUES(2,\"bell\",13)"
   ]
  },
  {
   "cell_type": "markdown",
   "id": "07c62572-4da0-446f-942a-9ca8e2da5d0e",
   "metadata": {},
   "source": [
    "<h3 style=\"color:#FF69B4\">b. INSERT VALUES IN MULTIPLE ROWS: </h3>"
   ]
  },
  {
   "cell_type": "code",
   "execution_count": null,
   "id": "7c45ddd8-ce01-4a3d-b32f-1116d8c313d6",
   "metadata": {},
   "outputs": [],
   "source": [
    "INSERT INTO students VALUES (3,\"nana\",15),(4,\"bee\",17),(5,\"fiz\",16 "
   ]
  },
  {
   "cell_type": "markdown",
   "id": "4380322f-0767-48a9-9cff-5497ad3ebebd",
   "metadata": {},
   "source": [
    "<H1 style=\"color:red\">2. SELECT:</H1>"
   ]
  },
  {
   "cell_type": "markdown",
   "id": "a2bd2a0e-30cb-417b-8ac2-c3bad253ea84",
   "metadata": {},
   "source": [
    "<h3 style=\"color:#FF0D86\">a. SELECTING ALL COLUMNS OF A TABLE:</h3>"
   ]
  },
  {
   "cell_type": "code",
   "execution_count": null,
   "id": "b291a33d-7a82-47eb-b4e8-188bfcb351a8",
   "metadata": {},
   "outputs": [],
   "source": [
    "%%sql\n",
    "SELECT * FROM students"
   ]
  },
  {
   "cell_type": "markdown",
   "id": "9eba1a79-520d-4151-9d0f-9599045e4262",
   "metadata": {},
   "source": [
    "<H3 style=\"color:#FF0D86\">b. FILTERING COLUMNS:</H3>"
   ]
  },
  {
   "cell_type": "code",
   "execution_count": null,
   "id": "944504a5-2da7-4a3c-bbfd-92346cefcd30",
   "metadata": {},
   "outputs": [],
   "source": [
    "%%sql\n",
    "SELECT s_id,name FROM students"
   ]
  },
  {
   "cell_type": "markdown",
   "id": "182280e0-69b6-44c0-8861-06264612ccfc",
   "metadata": {},
   "source": [
    "<H3 style=\"color:#FF0D86\">c. ALIASING AS</H3>"
   ]
  },
  {
   "cell_type": "code",
   "execution_count": null,
   "id": "2a615d73-6455-4071-b376-058410b7794c",
   "metadata": {},
   "outputs": [],
   "source": [
    "%%sql\n",
    "SELECT s_id AS student_id, name AS student_name FROM students"
   ]
  },
  {
   "cell_type": "markdown",
   "id": "d30426b1-57a8-4335-9399-02a352733256",
   "metadata": {},
   "source": [
    "<H3 style=\"color:#FF0D86\">d. EXPRESSIONS: </H3>"
   ]
  },
  {
   "cell_type": "code",
   "execution_count": null,
   "id": "32338ed6-4102-4587-9f48-7742e0dccb15",
   "metadata": {},
   "outputs": [],
   "source": [
    "%%sql\n",
    "SELECT Name, Age + 102 AS Current_Age FROM titanic_dataset"
   ]
  },
  {
   "cell_type": "code",
   "execution_count": null,
   "id": "e64032c9-44ac-4551-af40-ec0a6d3d8b0c",
   "metadata": {},
   "outputs": [],
   "source": [
    "%%sql\n",
    "SELECT Name, SibSp + Parch AS Family FROM titanic_dataset"
   ]
  },
  {
   "cell_type": "markdown",
   "id": "fe2f135c-d91c-41cd-a50d-e69414050f84",
   "metadata": {},
   "source": [
    "<H3 style=\"color:#FF0D86\">e. CONSTANTS:</H3>"
   ]
  },
  {
   "cell_type": "code",
   "execution_count": null,
   "id": "7569aabb-d727-4c4c-bc57-afb4839dc46f",
   "metadata": {},
   "outputs": [],
   "source": [
    "%%sql\n",
    "SELECT Name, 100000 AS Compensation FROM titanic_dataset"
   ]
  },
  {
   "cell_type": "markdown",
   "id": "6ad0fee3-41a1-4c96-873f-700f0753795f",
   "metadata": {},
   "source": [
    "<h3 style=\"color:#FF0D86\">f. DISTINCT: </h3>"
   ]
  },
  {
   "cell_type": "code",
   "execution_count": null,
   "id": "45b1b48d-d86c-46aa-9cb2-3b9632720427",
   "metadata": {},
   "outputs": [],
   "source": [
    "#FOR SELECTING SINGLE DISTINCT VALUES\n",
    "%%sql\n",
    "SELECT DISTINCT Sex FROM titanic_dataset"
   ]
  },
  {
   "cell_type": "code",
   "execution_count": null,
   "id": "68b91ce8-5af4-4b02-a67e-b2c2fd0c96c7",
   "metadata": {},
   "outputs": [],
   "source": [
    "#FOR SELECTING DISTINCT VALUES FROM MULTIPLE ROWS:\n",
    "%%sql\n",
    "SELECT DISTINCT Pclass, Embarked FROM titanic_dataset"
   ]
  },
  {
   "cell_type": "markdown",
   "id": "db8bf179-77d7-49ec-a015-0c60e3a53c2d",
   "metadata": {},
   "source": [
    "<H3 style=\"color:#FF0D86\">g. COMPARISON OPERATORS (WHERE, LIKE):</H3>"
   ]
  },
  {
   "cell_type": "code",
   "execution_count": null,
   "id": "31863817-f041-4821-9406-a8d93fa18501",
   "metadata": {},
   "outputs": [],
   "source": [
    "%%sql\n",
    "SELECT * FROM titanic_dataset WHERE Pclass = 3"
   ]
  },
  {
   "cell_type": "code",
   "execution_count": null,
   "id": "77b4bf53-f1f1-44a0-a5ce-ab704ea28145",
   "metadata": {},
   "outputs": [],
   "source": [
    "%%sql\n",
    "SELECT * FROM titanic_dataset WHERE Age > 20"
   ]
  },
  {
   "cell_type": "markdown",
   "id": "f745d109-f5a6-4ad5-9d96-e3208c72fe5d",
   "metadata": {},
   "source": [
    "<H3 style=\"color:#FF69B4\">h. COMBINING OPERATORS:</H3>"
   ]
  },
  {
   "cell_type": "markdown",
   "id": "8b319ca5-e2ab-4eb2-989d-f2251465c3cf",
   "metadata": {},
   "source": [
    "<h5>-AND</h5>"
   ]
  },
  {
   "cell_type": "code",
   "execution_count": null,
   "id": "9c68067b-ca44-4aee-a878-4eb854f907ae",
   "metadata": {},
   "outputs": [],
   "source": [
    "%%sql\n",
    "SELECT * FROM titanic_dataset WHERE Pclass = 3 AND Survived = 1"
   ]
  },
  {
   "cell_type": "markdown",
   "id": "b43cae63-a73e-4551-847e-2d626a4b8537",
   "metadata": {},
   "source": [
    "<H3 style=\"color:#FF0D86\">i. BETWEEN OPERATOR</H3>"
   ]
  },
  {
   "cell_type": "markdown",
   "id": "cc3b9510-71dc-4ed2-bccc-589288edf81f",
   "metadata": {},
   "source": [
    "<H5>a. BETWEEN FOR NUMBERS:</H5>"
   ]
  },
  {
   "cell_type": "code",
   "execution_count": null,
   "id": "6ed96c4a-27b8-47a4-aae1-ec0949141c20",
   "metadata": {},
   "outputs": [],
   "source": [
    "%%sql\n",
    "SELECT * FROM titanic_dataset WHERE Age BETWEEN 10 AND 15"
   ]
  },
  {
   "cell_type": "markdown",
   "id": "17eb7d85-5d83-41c6-8881-9a698a0c5f23",
   "metadata": {},
   "source": [
    "<h5>b. BETWEEN FOR DATES</h5>"
   ]
  },
  {
   "cell_type": "code",
   "execution_count": null,
   "id": "ae044b9b-4350-4c43-bb64-5e4d69e09da2",
   "metadata": {},
   "outputs": [],
   "source": [
    "SELECT * FROM titanic_dataset WHERE date_of_boarding BETWEEN '1912-04-10' AND '1912-04-12'"
   ]
  },
  {
   "cell_type": "markdown",
   "id": "bb6c6abc-0ce3-43d0-98f7-e970e6b41e4f",
   "metadata": {},
   "source": [
    "<h5>c. BETWEEN FOR TEXT</h5>"
   ]
  },
  {
   "cell_type": "code",
   "execution_count": null,
   "id": "fc707371-ddeb-4ab9-a313-49c861fe3b9f",
   "metadata": {},
   "outputs": [],
   "source": [
    "SELECT * FROM titanic_dataset WHERE Name BETWEEN 'Palsson' AND 'Hewlett'"
   ]
  },
  {
   "cell_type": "markdown",
   "id": "b2cdc1c8-add8-468e-91e5-9076ba71b2e7",
   "metadata": {},
   "source": [
    "<H3 style=\"color:#FF0D86\">j. IN:</H3>"
   ]
  },
  {
   "cell_type": "code",
   "execution_count": null,
   "id": "2aa0452d-8cf5-45d8-9872-a9bd48e1669b",
   "metadata": {},
   "outputs": [],
   "source": [
    "SELECT * FROM bollywood_movies WHERE genre LIKE 'Comedy' OR genre LIKE 'Action'"
   ]
  },
  {
   "cell_type": "code",
   "execution_count": null,
   "id": "f58ab3bf-944a-4bab-aa8f-2f88d94da336",
   "metadata": {},
   "outputs": [],
   "source": [
    "SELECT * FROM bollywood_movies WHERE genre = 'Comedy' OR genre = 'Action'"
   ]
  },
  {
   "cell_type": "code",
   "execution_count": null,
   "id": "56c1067a-fd01-4d0c-99f5-58aabb58784f",
   "metadata": {},
   "outputs": [],
   "source": [
    "SELECT * FROM bollywood_movies WHERE genre IN ('Action', 'Comedy','Drama')"
   ]
  },
  {
   "cell_type": "markdown",
   "id": "2d6f6dc2-8452-477e-ae9d-3c6d5058d3e8",
   "metadata": {},
   "source": [
    "<H3 style=\"color:#FF0D86\">k. NOT IN:</H3>"
   ]
  },
  {
   "cell_type": "code",
   "execution_count": null,
   "id": "79338f75-4d12-4f7b-8436-b242a926ecdc",
   "metadata": {},
   "outputs": [],
   "source": [
    "SELECT * FROM bollywood_movies WHERE genre NOT IN ('Action','Comedy','Drama')"
   ]
  },
  {
   "cell_type": "markdown",
   "id": "72356567-e8c3-40d8-89e3-bc8c28ad176a",
   "metadata": {},
   "source": [
    "<h3 style=\"color:#FF69B4\">k. WILDCARDS:</h3>"
   ]
  },
  {
   "cell_type": "markdown",
   "id": "5207e8c3-ea88-49ab-ab77-cd942fafeba1",
   "metadata": {},
   "source": [
    "<H3 style=\"color:#FF0D86\">l. WILDCARDS</H3>"
   ]
  },
  {
   "cell_type": "markdown",
   "id": "017a14d3-5a64-49b3-a40a-d6d44c5dc5df",
   "metadata": {},
   "source": [
    "<h5>- Movies starting with 'A':</h5>"
   ]
  },
  {
   "cell_type": "code",
   "execution_count": null,
   "id": "81de236f-802b-4a1d-b91b-1c53acb7d539",
   "metadata": {},
   "outputs": [],
   "source": [
    "SELECT title FROM bollywood_movies WHERE title LIKE 'A%'"
   ]
  },
  {
   "cell_type": "markdown",
   "id": "d4b6a0ea-baf6-4970-b78a-5fb8421e8dcf",
   "metadata": {},
   "source": [
    "<h5>-Movies containing the word 'sum':</h5>"
   ]
  },
  {
   "cell_type": "code",
   "execution_count": null,
   "id": "91dc75f5-db3a-4100-be43-4bd254082da7",
   "metadata": {},
   "outputs": [],
   "source": [
    "SELECT title FROM bollywood_movies WHERE title LIKE '%sum%'"
   ]
  },
  {
   "cell_type": "markdown",
   "id": "2eb64a1c-85d4-4c39-b3df-9a75cfc24058",
   "metadata": {},
   "source": [
    "<h5>-Movies ending with the letter 'A':</h5>"
   ]
  },
  {
   "cell_type": "code",
   "execution_count": null,
   "id": "981bc9ee-7dd5-4894-9044-887d2fa0f965",
   "metadata": {},
   "outputs": [],
   "source": [
    "SELECT title FROM bollywood_movies WHERE title LIKE '%A'"
   ]
  },
  {
   "cell_type": "code",
   "execution_count": null,
   "id": "7c7e056b-3142-4a97-aad1-c924fe79fd1a",
   "metadata": {},
   "outputs": [],
   "source": [
    "SELECT * FROM bollywood_movies \n",
    "WHERE actor LIKE '%kumar%' OR actor LIKE '%kapoor'"
   ]
  },
  {
   "cell_type": "markdown",
   "id": "8d4a03cb-8f55-4177-b2eb-6ad82397a00d",
   "metadata": {},
   "source": [
    "<h5>-Movies having 5 alphabets:</h5>"
   ]
  },
  {
   "cell_type": "code",
   "execution_count": null,
   "id": "62d3ca22-e8f0-4bee-889a-759b7690e6a5",
   "metadata": {},
   "outputs": [],
   "source": [
    "SELECT * FROM bollywood_movies WHERE title LIKE '_____'"
   ]
  },
  {
   "cell_type": "markdown",
   "id": "1f15ac17-1f9b-42eb-a76c-a13a92a91746",
   "metadata": {},
   "source": [
    "<h5>-Movies with 5 alphabets and starting with letter 'A':</h5>"
   ]
  },
  {
   "cell_type": "code",
   "execution_count": null,
   "id": "da92cd89-54a9-4a50-be76-d38860cee936",
   "metadata": {},
   "outputs": [],
   "source": [
    "SELECT * FROM bollywood_movies WHERE title LIKE 'A____'"
   ]
  },
  {
   "cell_type": "markdown",
   "id": "b7a4b3ff-ef38-4431-b348-a894c2cfb0f2",
   "metadata": {},
   "source": [
    "<h1 style=\"color:red\">3. UPDATE</h1>"
   ]
  },
  {
   "cell_type": "markdown",
   "id": "bff22662-6a28-4049-be84-d703cce70c9c",
   "metadata": {},
   "source": [
    "<h3 style=\"color:#FF0D86\">a.Update the values of a column to same value:</h3>"
   ]
  },
  {
   "cell_type": "code",
   "execution_count": null,
   "id": "a88ff99b-a3a3-4e03-b8ee-353dec32c8f5",
   "metadata": {},
   "outputs": [],
   "source": [
    "UPDATE students SET class ='7th'  #set the class for all the records as '7th'"
   ]
  },
  {
   "cell_type": "markdown",
   "id": "46b4557e-43e8-4b9f-a077-0853be4cd82c",
   "metadata": {},
   "source": [
    "<h3 style=\"color:#FF0D86\">b. Updating the value of a specific record, using the conditions:</h3>"
   ]
  },
  {
   "cell_type": "code",
   "execution_count": null,
   "id": "0b1f1951-a242-4c12-8d57-96cbca2b434a",
   "metadata": {},
   "outputs": [],
   "source": [
    "UPDATE students SET class = '4th year' WHERE name LIKE 'isa'"
   ]
  },
  {
   "cell_type": "code",
   "execution_count": null,
   "id": "06e8142a-9f79-4a98-99e5-ed57b87ebf56",
   "metadata": {},
   "outputs": [],
   "source": [
    "UPDATE students SET class = \"4th year\" WHERE name = 'fizu'"
   ]
  },
  {
   "cell_type": "markdown",
   "id": "b25e1be8-3c6f-4d7d-95b1-f5bc7e9d55ea",
   "metadata": {},
   "source": [
    "<h1 style=\"color:red\">4. DELETE</h1>"
   ]
  },
  {
   "cell_type": "markdown",
   "id": "062f6351-ca62-4b71-a403-f60525f22fbb",
   "metadata": {},
   "source": [
    "<h3 style=\"color:#FF0D86\">a. Delete a specific row:</h3>"
   ]
  },
  {
   "cell_type": "code",
   "execution_count": null,
   "id": "1cc36664-7efc-4530-ad3c-420ca22694ad",
   "metadata": {},
   "outputs": [],
   "source": [
    "DELETE FROM students WHERE s_id = 4"
   ]
  },
  {
   "cell_type": "markdown",
   "id": "834b3a98-b683-4a58-a1c8-6db448df764a",
   "metadata": {},
   "source": [
    "<h3 style=\"color:#FF0D86\">b. Delete a row using conditions</h3>"
   ]
  },
  {
   "cell_type": "code",
   "execution_count": null,
   "id": "b54c3c72-24e5-4147-a41e-741670766aa3",
   "metadata": {},
   "outputs": [],
   "source": [
    "DELETE FROM students WHERE s_id >= 5 AND class LIKE '%11th%'"
   ]
  },
  {
   "cell_type": "markdown",
   "id": "687f12c0-9134-406e-a5f9-e523b63be620",
   "metadata": {},
   "source": [
    "<h3 style=\"color:#FF0D86\">c. Delete all the rows of a table:</h3>"
   ]
  },
  {
   "cell_type": "code",
   "execution_count": null,
   "id": "813138c6-e4c4-47e7-88ee-6f48a9bc5756",
   "metadata": {},
   "outputs": [],
   "source": [
    "INSERT INTO olds VALUES ('1','betty')"
   ]
  },
  {
   "cell_type": "code",
   "execution_count": null,
   "id": "d771a1eb-8d38-4815-89bc-96a9430d459b",
   "metadata": {},
   "outputs": [],
   "source": [
    "#deletes all the rows\n",
    "DELETE FROM olds WHERE 1"
   ]
  }
 ],
 "metadata": {
  "kernelspec": {
   "display_name": "Python 3 (ipykernel)",
   "language": "python",
   "name": "python3"
  },
  "language_info": {
   "codemirror_mode": {
    "name": "ipython",
    "version": 3
   },
   "file_extension": ".py",
   "mimetype": "text/x-python",
   "name": "python",
   "nbconvert_exporter": "python",
   "pygments_lexer": "ipython3",
   "version": "3.12.4"
  }
 },
 "nbformat": 4,
 "nbformat_minor": 5
}
