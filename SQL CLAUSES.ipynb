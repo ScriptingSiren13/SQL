{
 "cells": [
  {
   "cell_type": "markdown",
   "id": "caff12fb-4a9f-4a24-b62c-407a383da4d2",
   "metadata": {},
   "source": [
    "<h1 style=\"color:#B00058\">SORTING DATA</h1>"
   ]
  },
  {
   "cell_type": "markdown",
   "id": "8d4717a6-e76e-43fb-a193-5cb4a392d373",
   "metadata": {},
   "source": [
    "<h2 style=\"color:#FF0D86\">1. ORDER BY (USING DESC AND LIMIT):</h2>"
   ]
  },
  {
   "cell_type": "markdown",
   "id": "f392526d-ea6a-4c76-a5ce-ee2903209237",
   "metadata": {},
   "source": [
    "<h5>-Calculate the profit for each movie by subtracting the budget from india_gross, then order the movies by profit in descending order.</h5>"
   ]
  },
  {
   "cell_type": "code",
   "execution_count": null,
   "id": "31989839-ddf5-424f-86bb-038130551614",
   "metadata": {},
   "outputs": [],
   "source": [
    "SELECT title, (india_gross - budget) AS Profit FROM bollywood_movies ORDER BY Profit DESC"
   ]
  },
  {
   "cell_type": "markdown",
   "id": "f3c485c0-bb32-4c87-840c-719692080ef8",
   "metadata": {},
   "source": [
    "<H5>-Top 5 movies:</H5>"
   ]
  },
  {
   "cell_type": "code",
   "execution_count": null,
   "id": "697e6318-e0f9-46c7-b910-80402fa0e18e",
   "metadata": {},
   "outputs": [],
   "source": [
    "SELECT title, (india_gross-budget) AS Profit FROM bollywood_movies ORDER BY PROFIT DESC LIMIT 5"
   ]
  },
  {
   "cell_type": "markdown",
   "id": "ce1213f4-2c13-4a65-9f10-8579ac78950d",
   "metadata": {},
   "source": [
    "<h5>-Worst 5 movies:</h5>"
   ]
  },
  {
   "cell_type": "code",
   "execution_count": null,
   "id": "c28a2350-1069-4341-a546-7a4a109a1cc1",
   "metadata": {},
   "outputs": [],
   "source": [
    "SELECT title,(india_gross-budget) AS Profit FROM bollywood_movies ORDER BY Profit LIMIT 5"
   ]
  },
  {
   "cell_type": "markdown",
   "id": "21b3e12d-0ec9-45eb-ad39-c717a0d80f93",
   "metadata": {},
   "source": [
    "<H5>-Retrieves all columns from the bollywood_movies table and orders the results by the genre column in ascending order by default.</H5>"
   ]
  },
  {
   "cell_type": "code",
   "execution_count": null,
   "id": "e7639ec0-891d-457d-9bdd-33d5e09101f9",
   "metadata": {},
   "outputs": [],
   "source": [
    "SELECT * FROM bollywood_movies ORDER BY genre;"
   ]
  },
  {
   "cell_type": "code",
   "execution_count": null,
   "id": "6aed6682-3478-460a-9453-96fac3da3e59",
   "metadata": {},
   "outputs": [],
   "source": [
    "SELECT * FROM bollywood_movies ORDER BY genre, title DESC "
   ]
  },
  {
   "cell_type": "markdown",
   "id": "9d816c44-19dc-4245-b0a7-781460431485",
   "metadata": {},
   "source": [
    "<h1 style=\"color:#B00058\">GROUPING DATA</h1>"
   ]
  },
  {
   "cell_type": "markdown",
   "id": "ecb8cb2d-5e73-42d3-8d65-10b7066e59bf",
   "metadata": {},
   "source": [
    "<H2 style=\"color:#FF0D86\">2. GROUP BY:</H2>"
   ]
  },
  {
   "cell_type": "markdown",
   "id": "6bbe1c12-4280-4ce8-8f1c-ad9c5d07349a",
   "metadata": {},
   "source": [
    "<h5>-No of movies each actor has done:</h5>"
   ]
  },
  {
   "cell_type": "code",
   "execution_count": null,
   "id": "6b640041-b87b-47bd-8a4c-4acf888361b4",
   "metadata": {},
   "outputs": [],
   "source": [
    "SELECT actor, COUNT(*) AS Num_Movies FROM bollywood_movies GROUP BY Actor"
   ]
  },
  {
   "cell_type": "markdown",
   "id": "441a8978-ec68-44ba-aed2-1b5e63527d51",
   "metadata": {},
   "source": [
    "<h5>-Top 5 actors with most movies:</h5>"
   ]
  },
  {
   "cell_type": "code",
   "execution_count": null,
   "id": "51b48d7b-8c95-4ac3-a733-15b09dd7bac2",
   "metadata": {},
   "outputs": [],
   "source": [
    "SELECT Actor, COUNT(*) AS Num_Movies FROM bollywood_movies GROUP BY Actor ORDER BY Num_Movies DESC LIMIT 5"
   ]
  },
  {
   "cell_type": "markdown",
   "id": "47ac502b-0c5a-496c-88e8-dc1ee21f5cb8",
   "metadata": {},
   "source": [
    "<h5>Genre with highest profit</h5>"
   ]
  },
  {
   "cell_type": "code",
   "execution_count": null,
   "id": "2cec5e91-985e-44b9-8726-c28c9d2c8dcf",
   "metadata": {},
   "outputs": [],
   "source": [
    "SELECT genre, SUM(India_Gross-Budget) AS Profit FROM bollywood_movies GROUP BY genre ORDER BY Profit DESC LIMIT 1"
   ]
  },
  {
   "cell_type": "markdown",
   "id": "a9d60d2d-3386-477d-b288-04be7496c4f5",
   "metadata": {},
   "source": [
    "<h5>-On an average, most profitable director:</h5>"
   ]
  },
  {
   "cell_type": "code",
   "execution_count": null,
   "id": "ac7b885d-19b7-40fe-966a-1e896fb56820",
   "metadata": {},
   "outputs": [],
   "source": [
    "SELECT director, AVG(India_Gross - Budget) AS Profit FROM bollywood_movies GROUP BY director ORDER BY Profit DESC LIMIT 1"
   ]
  },
  {
   "cell_type": "markdown",
   "id": "317ace5c-8700-4f54-aa96-9cc039fddf0d",
   "metadata": {},
   "source": [
    "<h5>Top 5 movies with the highest budget </h5>"
   ]
  },
  {
   "cell_type": "code",
   "execution_count": null,
   "id": "dc179b32-236f-4e5b-afc9-0132627ec224",
   "metadata": {},
   "outputs": [],
   "source": [
    "SELECT title, Budget FROM bollywood_movies GROUP BY Title ORDER BY Budget DESC LIMIT 5"
   ]
  },
  {
   "cell_type": "markdown",
   "id": "deff11ff-49b0-493b-bb63-a12b13b00255",
   "metadata": {},
   "source": [
    "<h5>Movies whose budget was the lowest</h5>"
   ]
  },
  {
   "cell_type": "code",
   "execution_count": null,
   "id": "4b162933-6787-4cde-bede-a965bff31475",
   "metadata": {},
   "outputs": [],
   "source": [
    "SELECT title, Budget FROM bollywood_movies GROUP BY Title ORDER BY Budget LIMIT 5"
   ]
  },
  {
   "cell_type": "markdown",
   "id": "ae073bda-95c2-40c4-8b24-73f8755bcc05",
   "metadata": {},
   "source": [
    "<h5>actor & director who has earned max profit</h5>"
   ]
  },
  {
   "cell_type": "code",
   "execution_count": null,
   "id": "bc9a7973-b09a-4a79-937f-483720eee78a",
   "metadata": {},
   "outputs": [],
   "source": [
    "SELECT Actor, Director, SUM(India_Gross-Budget) AS Profit FROM bollywood_movies GROUP BY Actor, Director ORDER BY Profit DESC LIMIT 1"
   ]
  },
  {
   "cell_type": "code",
   "execution_count": null,
   "id": "750e4853-e78a-4141-8f7b-b7072ef2440d",
   "metadata": {},
   "outputs": [],
   "source": [
    "SELECT CONCAT(Actor, ' ', Director) AS Crew, SUM(India_Gross - Budget) AS Profit FROM bollywood_movies GROUP BY Crew ORDER BY Profit DESC LIMIT 1"
   ]
  },
  {
   "cell_type": "markdown",
   "id": "fce897fc-30f5-4bc3-8242-639cc99b7178",
   "metadata": {},
   "source": [
    "<H5>Top 5 actors who earned most profit</H5>"
   ]
  },
  {
   "cell_type": "code",
   "execution_count": null,
   "id": "ee3f33cf-304c-4ce2-81fc-93141306272b",
   "metadata": {},
   "outputs": [],
   "source": [
    "SELECT Actor, SUM(India_Gross - Budget) AS Profit FROM bollywood_movies GROUP BY Actor ORDER BY Profit DESC LIMIT 5"
   ]
  },
  {
   "cell_type": "markdown",
   "id": "fe6f803e-b68e-4c42-8c23-07adb5e1ebe9",
   "metadata": {},
   "source": [
    "<H2 style=\"color:#FF0D86\">3. HAVING:</H2>"
   ]
  },
  {
   "cell_type": "code",
   "execution_count": null,
   "id": "d3956bef-5990-4450-be60-08cb6906009d",
   "metadata": {},
   "outputs": [],
   "source": [
    "#We use having with group by"
   ]
  },
  {
   "cell_type": "markdown",
   "id": "1fb742e7-f3d9-403b-960d-b4d8375094a0",
   "metadata": {},
   "source": [
    "<h5>Actors who, on an average, get more than 50 screen releases</h5>"
   ]
  },
  {
   "cell_type": "code",
   "execution_count": null,
   "id": "bd60241d-01ba-4023-b240-f645b06b608b",
   "metadata": {},
   "outputs": [],
   "source": [
    "SELECT actor, AVG(Screens) AS Opening FROM bollywood_movies GROUP BY Actor HAVING Opening > 50 ORDER BY Opening DESC "
   ]
  },
  {
   "cell_type": "code",
   "execution_count": null,
   "id": "a213127b-40a2-484b-8b42-133e30af49bd",
   "metadata": {},
   "outputs": [],
   "source": [
    "SELECT Actor, AVG(Screens) AS Opening FROM bollywood_movies WHERE Opening > 50\n",
    "#IF WE DO THIS, THERE WILL BE SOME ISSUES WITH IT:\n",
    "# 1. SQL does not allow referencing an alias in the WHERE clause because the alias is created after the WHERE clause is evaluated.\n",
    "# 2. Instead, you should use the HAVING clause when filtering aggregated values.\n",
    "# 3. Aggregation Without GROUP BY:\n",
    "# Since you are using AVG(Screens), which is an aggregate function, you must include a GROUP BY clause to specify\n",
    "# how the aggregation is grouped by Actor.\n",
    "\n"
   ]
  },
  {
   "cell_type": "markdown",
   "id": "660ec3bb-802e-4664-b2d5-5d144ff2f2e9",
   "metadata": {},
   "source": [
    "<H2 style=\"color:#FF0D86\">4. CASE:</H2>"
   ]
  },
  {
   "cell_type": "markdown",
   "id": "ee688c9e-9fb4-4550-9974-86d50646790d",
   "metadata": {},
   "source": [
    "<h5>Calculating the profit of each movie</h5>"
   ]
  },
  {
   "cell_type": "code",
   "execution_count": null,
   "id": "fd9bb406-3ef9-4522-9c41-2ec2f007cad4",
   "metadata": {},
   "outputs": [],
   "source": [
    "SELECT Title , (India_Gross - Budget) As Profit FROM bollywood_movies"
   ]
  },
  {
   "cell_type": "markdown",
   "id": "71b562b0-b631-4656-97a2-734cb9edc969",
   "metadata": {},
   "source": [
    "<h5>Calculating the profit of each movie and finding the performace</h5>"
   ]
  },
  {
   "cell_type": "code",
   "execution_count": null,
   "id": "e92b2676-92be-49ea-ad98-e257f087ae6b",
   "metadata": {},
   "outputs": [],
   "source": [
    "SELECT Title , (India_Gross - Budget) As Profit, \n",
    "CASE\n",
    "  WHEN Profit > 10000 THEN 'SuperHit'\n",
    "  WHEN Profit >5000 AND Profit < 7500 THEN 'HIT'\n",
    "  WHEN Profit >2500 AND Profit < 5000 THEN 'Avearge'\n",
    "  ELSE 'FLOP'\n",
    "END AS Verdict\n",
    "FROM bollywood_movies\n",
    "\n",
    "\n",
    "#This gives an error because:\n",
    "#SQL processes queries in a specific order of execution. The calculation for Profit happens after the CASE statement is evaluated.\n",
    "#Since Profit doesn't \"exist\" during the evaluation of the CASE statement, SQL raises an error."
   ]
  },
  {
   "cell_type": "code",
   "execution_count": null,
   "id": "f1be2003-a423-4271-8901-62b7c11c8a62",
   "metadata": {},
   "outputs": [],
   "source": [
    "SELECT Title , (India_Gross - Budget) As Profit, \n",
    "CASE\n",
    "  WHEN (India_Gross - Budget) > 10000 THEN 'SuperHit'\n",
    "  WHEN (India_Gross - Budget) >5000 AND (India_Gross - Budget) < 7500 THEN 'HIT'\n",
    "  WHEN (India_Gross - Budget) >2500 AND (India_Gross - Budget) < 5000 THEN 'Avearge'\n",
    "  ELSE 'FLOP'\n",
    "END AS Verdict\n",
    "FROM bollywood_movies"
   ]
  }
 ],
 "metadata": {
  "kernelspec": {
   "display_name": "Python 3 (ipykernel)",
   "language": "python",
   "name": "python3"
  },
  "language_info": {
   "codemirror_mode": {
    "name": "ipython",
    "version": 3
   },
   "file_extension": ".py",
   "mimetype": "text/x-python",
   "name": "python",
   "nbconvert_exporter": "python",
   "pygments_lexer": "ipython3",
   "version": "3.12.4"
  }
 },
 "nbformat": 4,
 "nbformat_minor": 5
}
