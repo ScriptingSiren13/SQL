{
 "cells": [
  {
   "cell_type": "markdown",
   "id": "4b22bcd9-fa07-4161-b0c6-fafebe8f82cf",
   "metadata": {},
   "source": [
    "<H2 style=\"color:#FF0D86\">1. CARTESIAN PRODUCT</H2>"
   ]
  },
  {
   "cell_type": "code",
   "execution_count": null,
   "id": "24b165f4-5c4a-42c1-bebf-a11f10568214",
   "metadata": {},
   "outputs": [],
   "source": [
    "SELECT * FROM users CROSS JOIN groups"
   ]
  },
  {
   "cell_type": "markdown",
   "id": "cf8dc46d-de83-4e80-902c-aac6a01c65da",
   "metadata": {},
   "source": [
    "<H2 style=\"color:#FF0D86\">2. INNER JOIN</H2>"
   ]
  },
  {
   "cell_type": "code",
   "execution_count": null,
   "id": "ac36155e-14c7-4073-9def-97f0d0f5ec4b",
   "metadata": {},
   "outputs": [],
   "source": [
    "SELECT * FROM membership m JOIN users u ON m.uid=u.id\n",
    "#will select common rows from bothe the tables"
   ]
  },
  {
   "cell_type": "markdown",
   "id": "540e90a0-2d8a-4b09-ab22-92eaf949fa9b",
   "metadata": {},
   "source": [
    "<H2 style=\"color:#FF0D86\"> 3. LEFT OUTER JOIN</H2>"
   ]
  },
  {
   "cell_type": "code",
   "execution_count": null,
   "id": "66ed8d5c-8c9f-40bf-9da3-982a419eeab1",
   "metadata": {},
   "outputs": [],
   "source": [
    "SELECT * FROM membership m LEFT OUTER JOIN users u ON m.uid = u.id;\n",
    "#combines the common part of both the tables\n",
    "#also adds the contents of the table on the left"
   ]
  },
  {
   "cell_type": "markdown",
   "id": "6d11f769-5aa7-45f8-9332-55f6eeed908b",
   "metadata": {},
   "source": [
    "<H2 style=\"color:#FF0D86\">4. RIGHT OUTER JOIN</H2>"
   ]
  },
  {
   "cell_type": "code",
   "execution_count": null,
   "id": "64bdcaf2-0f4b-4b0b-87d0-42a09200ffbf",
   "metadata": {},
   "outputs": [],
   "source": [
    "SELECT * FROM membership m RIGHT OUTER JOIN users u ON m.uid=u.id\n",
    "#combines the common part of both the tables\n",
    "#also adds the contents of the table on the right"
   ]
  },
  {
   "cell_type": "markdown",
   "id": "ee0431e0-33c6-4db7-817a-4a5a76adf975",
   "metadata": {},
   "source": [
    "<H2 style=\"color:#FF0D86\">5. UNION (FULL OUTER JOIN)</H2>"
   ]
  },
  {
   "cell_type": "markdown",
   "id": "6d5b96b6-2fde-479e-8954-6d1362e9373e",
   "metadata": {},
   "source": [
    "<h5>INCLUDING ONLY UNIQUE THE VALUES</h5>"
   ]
  },
  {
   "cell_type": "code",
   "execution_count": null,
   "id": "13714411-0331-4c01-9ed0-3d4f6b2083fe",
   "metadata": {},
   "outputs": [],
   "source": [
    "SELECT Id FROM users\n",
    "UNION\n",
    "SELECT gid FROM groups\n",
    "\n",
    "#Number of columns in both the queries should be same\n",
    "#The datatypes of the columns should be same.\n",
    "#Union always gives the unique result (row values are not repeated)"
   ]
  },
  {
   "cell_type": "markdown",
   "id": "c49fbe7e-3697-4df0-8172-4cbcae79f9df",
   "metadata": {},
   "source": [
    "<h5>INCLUDING ALL THE VALUES</h5>"
   ]
  },
  {
   "cell_type": "code",
   "execution_count": null,
   "id": "7d372459-1958-4cb2-a9a9-01d9243d732b",
   "metadata": {},
   "outputs": [],
   "source": [
    "SELECT id FROM users\n",
    "UNION ALL \n",
    "SELECT gid FROM groups"
   ]
  },
  {
   "cell_type": "markdown",
   "id": "85531633-a1db-4477-85c4-f8c7b7626462",
   "metadata": {},
   "source": [
    "<H2 style=\"color:#FF0D86\">5. FULLY OUTER JOIN</H2>"
   ]
  },
  {
   "cell_type": "code",
   "execution_count": null,
   "id": "2e5280ed-fed0-488e-9ff4-19fb1876c412",
   "metadata": {},
   "outputs": [],
   "source": [
    "SELECT * FROM membership m LEFT OUTER JOIN users u ON m.uid= u.id\n",
    "UNION\n",
    "SELECT * FROM membership m RIGHT OUTER JOIN users u ON m.uid = u.id"
   ]
  },
  {
   "cell_type": "markdown",
   "id": "6a568d54-9c6c-4197-a9d6-28d01b298d6c",
   "metadata": {},
   "source": [
    "<H2 style=\"color:#FF0D86\">6. MULTIPLE OUTER JOIN</H2>"
   ]
  },
  {
   "cell_type": "markdown",
   "id": "197b7096-c483-45da-af8c-a00d3c53fe52",
   "metadata": {},
   "source": [
    "<h5>Name of each user along with its group</h5>"
   ]
  },
  {
   "cell_type": "code",
   "execution_count": null,
   "id": "fa737139-9c23-435f-afd4-2a1800dc8327",
   "metadata": {},
   "outputs": [],
   "source": [
    "SELECT name, gname \n",
    "FROM membership m \n",
    "JOIN users u ON m.uid = u.id\n",
    "JOIN groups g ON m.gid = g.gid"
   ]
  },
  {
   "cell_type": "code",
   "execution_count": null,
   "id": "23379f0a-361d-4d47-a3f9-caefe426ad85",
   "metadata": {},
   "outputs": [],
   "source": [
    "# Without the membership table, there’s no way to determine:\n",
    "# Which groups a user belongs to.\n",
    "# Which users are part of a specific group.\n",
    "# If you joined users and groups directly, you’d only get a Cartesian product (every user paired with every group), which is meaningless."
   ]
  },
  {
   "cell_type": "markdown",
   "id": "e30f7b3c-eda4-44b2-906c-5b71fbabca8d",
   "metadata": {},
   "source": [
    "<H2 style=\"color:#FF0D86\">7. SELF JOIN</H2>"
   ]
  },
  {
   "cell_type": "markdown",
   "id": "059ac495-609f-4813-ba84-209e3d2516ca",
   "metadata": {},
   "source": [
    "<h5>Name of the users along with the name of their emergency contact</h5>"
   ]
  },
  {
   "cell_type": "code",
   "execution_count": null,
   "id": "4e2bdea5-5ac8-4317-aedd-2e30eb849f78",
   "metadata": {},
   "outputs": [],
   "source": [
    "SELECT u1.name, u2.name \n",
    "FROM users u1 JOIN users u2\n",
    "ON u1.emergency_contact = u2.id"
   ]
  },
  {
   "cell_type": "code",
   "execution_count": null,
   "id": "2d3e3d45-9278-4675-b7e8-fee66bceaf5d",
   "metadata": {},
   "outputs": [],
   "source": [
    "# This query performs a self-join on the users table to find the names of users and their corresponding emergency contacts. \n",
    "# Using aliases (u1 and u2), it matches the emergency_contact field in one user (u1) with the id of another user (u2). \n",
    "# The result lists each user (u1.name) alongside the name of their emergency contact (u2.name). \n",
    "# For example, if Alice's emergency contact ID matches Bob's ID, the query will return \"Alice, Bob."
   ]
  }
 ],
 "metadata": {
  "kernelspec": {
   "display_name": "Python 3 (ipykernel)",
   "language": "python",
   "name": "python3"
  },
  "language_info": {
   "codemirror_mode": {
    "name": "ipython",
    "version": 3
   },
   "file_extension": ".py",
   "mimetype": "text/x-python",
   "name": "python",
   "nbconvert_exporter": "python",
   "pygments_lexer": "ipython3",
   "version": "3.12.4"
  }
 },
 "nbformat": 4,
 "nbformat_minor": 5
}
